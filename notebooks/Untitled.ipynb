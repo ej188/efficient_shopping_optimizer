{
 "cells": [
  {
   "cell_type": "code",
   "execution_count": 7,
   "id": "39e6a142-b658-4aa5-b7f7-e59ea747c012",
   "metadata": {},
   "outputs": [],
   "source": [
    "from rapidfuzz import process\n",
    "import pandas as pd\n",
    "\n",
    "# Load CSV\n",
    "df = pd.read_csv(\"/Users/eunjaeyu/Developer/portfolio/efficient-shopping-optimizer/data/efficient_shopping_optimizer_data.csv\")\n",
    "catalog_items = df[\"item_name\"].dropna().unique().tolist()\n",
    "\n",
    "# Suggest items using fuzzy matching\n",
    "def suggest_items(user_input, catalog_items, limit=5, score_cutoff=30):\n",
    "    matches = process.extract(user_input, catalog_items, limit=limit, score_cutoff=score_cutoff)\n",
    "    if not matches:\n",
    "        print(f\"No matches found for '{user_input}'. Try lowering score_cutoff or checking catalog.\")\n",
    "    else:\n",
    "        print(f\"Matches found for '{user_input}': {[m[0] for m in matches]}\")\n",
    "    return matches"
   ]
  },
  {
   "cell_type": "code",
   "execution_count": 8,
   "id": "4ad16a78-0651-49cb-9ffd-5d6e2ad752fc",
   "metadata": {},
   "outputs": [],
   "source": [
    "# Interactive suggestion prompt (only works in terminal, not Jupyter well)\n",
    "def confirm_item_from_suggestions(user_input, catalog_items, score_cutoff=40):\n",
    "    suggestions = suggest_items(user_input, catalog_items, limit=5, score_cutoff=score_cutoff)\n",
    "\n",
    "    if not suggestions:\n",
    "        print(f\"\\n❌ No good matches found for '{user_input}'. Try rephrasing.\")\n",
    "        return None\n",
    "\n",
    "    print(f\"\\n🔎 Top matches for '{user_input}':\")\n",
    "    for i, (match, score, _) in enumerate(suggestions):\n",
    "        print(f\"{i+1}. {match} (score: {round(score, 1)})\")\n",
    "\n",
    "    return suggestions"
   ]
  },
  {
   "cell_type": "code",
   "execution_count": 9,
   "id": "63e57771-fd4f-474b-98c6-cfeda1aa4986",
   "metadata": {},
   "outputs": [
    {
     "name": "stdout",
     "output_type": "stream",
     "text": [
      "Matches found for 'chicken thigh': ['Chicken Breast', 'Shrimp']\n",
      "\n",
      "🔎 Top matches for 'chicken thigh':\n",
      "1. Chicken Breast (score: 59.3)\n",
      "2. Shrimp (score: 40.0)\n"
     ]
    }
   ],
   "source": [
    "user_input = \"chicken thigh\"\n",
    "suggested = confirm_item_from_suggestions(user_input, catalog_items)"
   ]
  },
  {
   "cell_type": "code",
   "execution_count": null,
   "id": "503ecb1a-aa2c-4488-8d49-55690f1ed170",
   "metadata": {},
   "outputs": [],
   "source": []
  }
 ],
 "metadata": {
  "kernelspec": {
   "display_name": "Python 3 (ipykernel)",
   "language": "python",
   "name": "python3"
  },
  "language_info": {
   "codemirror_mode": {
    "name": "ipython",
    "version": 3
   },
   "file_extension": ".py",
   "mimetype": "text/x-python",
   "name": "python",
   "nbconvert_exporter": "python",
   "pygments_lexer": "ipython3",
   "version": "3.13.3"
  }
 },
 "nbformat": 4,
 "nbformat_minor": 5
}
