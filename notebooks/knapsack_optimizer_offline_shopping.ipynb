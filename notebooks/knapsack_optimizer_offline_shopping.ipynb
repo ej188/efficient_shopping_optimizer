{
 "cells": [
  {
   "cell_type": "markdown",
   "id": "9626adea-790d-472b-af36-415d48bb2256",
   "metadata": {},
   "source": [
    "# Efficient Grocery Optimization (Offline Shopping)"
   ]
  },
  {
   "cell_type": "markdown",
   "id": "788b5e8d-6ee7-47c7-8d8d-42f82c2d98e3",
   "metadata": {},
   "source": [
    "## Objective\n",
    "Minimize cost and maximize protein under nutritional constraints using offline prices (ALDI, Meijer)."
   ]
  },
  {
   "cell_type": "markdown",
   "id": "1a3a3afa-9478-45ad-9950-c29d941fc636",
   "metadata": {},
   "source": [
    "## Dataset\n",
    "The dataset includes nutritional and pricing information for various food items from offline sources (ALDI, Meijer).  \n",
    "Each row represents a purchasable unit, with attributes such as:\n",
    "- `item_name`\n",
    "- `category`\n",
    "- `price_total`, `purchase_count`, `unit_price`\n",
    "- `protein_score`, `protein_per_100g`, etc.\n",
    "\n",
    "Only relevant offline items are filtered and used for optimization."
   ]
  },
  {
   "cell_type": "markdown",
   "id": "fccd2060-18d1-4dfa-bac8-4bc02dd635f8",
   "metadata": {},
   "source": [
    "## Optimization Strategy\n",
    "We implement a dynamic programming (0/1 knapsack) algorithm to maximize total protein score within a given budget.  \n",
    "Key aspects:\n",
    "- Objective: Maximize sum of `protein_score`\n",
    "- Constraint: Budget limit in dollars\n",
    "- Input values scaled by 100 for integer DP\n",
    "- Output is grouped by store and category"
   ]
  },
  {
   "cell_type": "code",
   "execution_count": 3,
   "id": "43f58de9-c7f4-49b7-925a-27d36bf267ff",
   "metadata": {},
   "outputs": [],
   "source": [
    "import pandas as pd\n",
    "from collections import defaultdict\n",
    "\n",
    "# Load data\n",
    "df = pd.read_csv(\"../data/efficient_shopping_optimizer_data.csv\")\n",
    "\n",
    "# Select necessary columns and clean data\n",
    "items = df[['item_name', 'price_total', 'protein_score', 'source', 'purchase_count', 'category']].copy()\n",
    "items = items.dropna(subset=['item_name', 'price_total', 'protein_score', 'source', 'purchase_count', 'category'])\n",
    "\n",
    "# Extract store name\n",
    "items['store'] = items['source'].str.extract(r'_(\\w+)', expand=False)\n",
    "items = items.dropna(subset=['store'])  # ensure store is str\n",
    "\n",
    "# Calculate unit price\n",
    "items['unit_price'] = items['price_total'] / items['purchase_count']\n",
    "items = items.reset_index(drop=True)\n",
    "\n",
    "# Prepare data\n",
    "protein_scores = items['protein_score'].tolist()\n",
    "unit_prices = items['unit_price'].tolist()\n",
    "item_names = items['item_name'].tolist()\n",
    "stores = items['store'].tolist()\n",
    "categories = items['category'].tolist()\n",
    "budget = 50\n",
    "n = len(protein_scores)\n",
    "\n",
    "# DP scaling\n",
    "scaled_weights = [int(round(w * 100)) for w in unit_prices]\n",
    "scaled_budget = int(round(budget * 100))\n",
    "\n",
    "dp = [[0.0] * (scaled_budget + 1) for _ in range(n + 1)]\n",
    "for i in range(1, n + 1):\n",
    "    for w in range(scaled_budget + 1):\n",
    "        if scaled_weights[i - 1] > w:\n",
    "            dp[i][w] = dp[i - 1][w]\n",
    "        else:\n",
    "            dp[i][w] = max(dp[i - 1][w], dp[i - 1][w - scaled_weights[i - 1]] + protein_scores[i - 1])\n",
    "\n",
    "# Backtrack\n",
    "selected_indices = []\n",
    "w = scaled_budget\n",
    "for i in range(n, 0, -1):\n",
    "    if dp[i][w] != dp[i - 1][w]:\n",
    "        selected_indices.append(i - 1)\n",
    "        w -= scaled_weights[i - 1]"
   ]
  },
  {
   "cell_type": "markdown",
   "id": "77a75b99-5218-4db5-ba05-4ecd7d729bc8",
   "metadata": {},
   "source": [
    "## Results\n",
    "The final selection is printed by:\n",
    "- Store → Category → Item  \n",
    "Each item's unit cost and protein score are displayed, along with:\n",
    "- **Total Expenditure**\n",
    "- **Total Protein Score**"
   ]
  },
  {
   "cell_type": "code",
   "execution_count": 4,
   "id": "f36c1289-d883-41bf-aef5-b1cf4583a744",
   "metadata": {},
   "outputs": [
    {
     "name": "stdout",
     "output_type": "stream",
     "text": [
      "Selected Items:\n",
      "ALDI:\n",
      "  protein:\n",
      "    - Plain Greek Yogurt | $3.79 | Protein Score: 22.50\n",
      "    - Egg | $3.19 | Protein Score: 22.57\n",
      "    - Chicken Breast | $9.99 | Protein Score: 25.88\n",
      "  vegetables:\n",
      "    - Potato | $4.69 | Protein Score: 20.35\n",
      "    - Yellow Onion | $2.39 | Protein Score: 6.26\n",
      "    - Carrot | $1.39 | Protein Score: 5.22\n",
      "    - Cabbage | $2.25 | Protein Score: 14.52\n",
      "Meijer:\n",
      "  fruit:\n",
      "    - Nectarine | $0.63 | Protein Score: 2.50\n",
      "  protein:\n",
      "    - Pork | $4.42 | Protein Score: 22.41\n",
      "    - Plain Greek Yogurt | $0.75 | Protein Score: 5.36\n",
      "    - Chicken Breast | $10.28 | Protein Score: 35.72\n",
      "  vegetables:\n",
      "    - Potato | $3.59 | Protein Score: 13.27\n",
      "    - Carrot | $0.22 | Protein Score: 2.47\n",
      "    - Cabbage | $2.37 | Protein Score: 13.78\n",
      "Total Expenditure: $49.95\n",
      "Total Protein Score: 212.82\n"
     ]
    }
   ],
   "source": [
    "# Output\n",
    "grouped_selection = defaultdict(lambda: defaultdict(list))\n",
    "for i in selected_indices:\n",
    "    grouped_selection[stores[i]][categories[i]].append(i)\n",
    "\n",
    "print(\"Selected Items:\")\n",
    "total_cost = total_score = 0.0\n",
    "for store in sorted(grouped_selection):\n",
    "    print(f\"{store}:\")\n",
    "    for category in sorted(grouped_selection[store]):\n",
    "        print(f\"  {category}:\")\n",
    "        for i in grouped_selection[store][category]:\n",
    "            print(f\"    - {item_names[i]} | ${unit_prices[i]:.2f} | Protein Score: {protein_scores[i]:.2f}\")\n",
    "            total_cost += unit_prices[i]\n",
    "            total_score += protein_scores[i]\n",
    "print(f\"Total Expenditure: ${total_cost:.2f}\")\n",
    "print(f\"Total Protein Score: {total_score:.2f}\")"
   ]
  }
 ],
 "metadata": {
  "kernelspec": {
   "display_name": "Python 3 (ipykernel)",
   "language": "python",
   "name": "python3"
  },
  "language_info": {
   "codemirror_mode": {
    "name": "ipython",
    "version": 3
   },
   "file_extension": ".py",
   "mimetype": "text/x-python",
   "name": "python",
   "nbconvert_exporter": "python",
   "pygments_lexer": "ipython3",
   "version": "3.13.3"
  }
 },
 "nbformat": 4,
 "nbformat_minor": 5
}
