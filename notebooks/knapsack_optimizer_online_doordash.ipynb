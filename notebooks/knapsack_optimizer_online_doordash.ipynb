{
 "cells": [
  {
   "cell_type": "markdown",
   "id": "01271649-0c6d-4a61-872e-9aea89fa1b59",
   "metadata": {},
   "source": [
    "# DoorDash-Based Knapsack Optimizer: Online Grocery Selection for Protein Efficiency"
   ]
  },
  {
   "cell_type": "code",
   "execution_count": 1,
   "id": "1e6f090b-9979-4b1c-8325-ef60ff796760",
   "metadata": {},
   "outputs": [],
   "source": [
    "import pandas as pd\n",
    "from collections import defaultdict\n",
    "\n",
    "# Load data\n",
    "df = pd.read_csv(\"../data/efficient_shopping_optimizer_data.csv\")\n",
    "\n",
    "# Filter DoorDash only\n",
    "online_df = df[df['source'].str.contains('Doordash', case=False, na=False)].copy()\n",
    "online_df['store'] = online_df['source'].str.extract(r'Doordash_(\\w+)', expand=False)\n",
    "online_df = online_df.dropna(subset=['item_name', 'price_total', 'protein_score', 'category', 'store'])\n",
    "\n",
    "# Prepare data\n",
    "protein_scores = online_df['protein_score'].tolist()\n",
    "unit_prices = online_df['price_total'].tolist()\n",
    "item_names = online_df['item_name'].tolist()\n",
    "stores = online_df['store'].tolist()\n",
    "categories = online_df['category'].tolist()\n",
    "budget = 50\n",
    "n = len(protein_scores)\n",
    "\n",
    "# DP scaling\n",
    "scaled_weights = [int(round(w * 100)) for w in unit_prices]\n",
    "scaled_budget = int(round(budget * 100))\n",
    "\n",
    "dp = [[0.0] * (scaled_budget + 1) for _ in range(n + 1)]\n",
    "for i in range(1, n + 1):\n",
    "    for w in range(scaled_budget + 1):\n",
    "        if scaled_weights[i - 1] > w:\n",
    "            dp[i][w] = dp[i - 1][w]\n",
    "        else:\n",
    "            dp[i][w] = max(dp[i - 1][w], dp[i - 1][w - scaled_weights[i - 1]] + protein_scores[i - 1])\n",
    "\n",
    "# Backtrack\n",
    "selected_indices = []\n",
    "w = scaled_budget\n",
    "for i in range(n, 0, -1):\n",
    "    if dp[i][w] != dp[i - 1][w]:\n",
    "        selected_indices.append(i - 1)\n",
    "        w -= scaled_weights[i - 1]"
   ]
  },
  {
   "cell_type": "code",
   "execution_count": 2,
   "id": "1dba5a2f-419d-47ef-8186-869cf933f15a",
   "metadata": {},
   "outputs": [
    {
     "name": "stdout",
     "output_type": "stream",
     "text": [
      "Selected Items:\n",
      "ALDI:\n",
      "  protein:\n",
      "    - Chicken Breast | $9.99 | Protein Score: 25.88\n",
      "    - Egg | $3.19 | Protein Score: 22.57\n",
      "    - Plain Greek Yogurt | $3.79 | Protein Score: 22.50\n",
      "  vegetables:\n",
      "    - Cabbage | $2.25 | Protein Score: 14.52\n",
      "    - Carrot | $1.39 | Protein Score: 5.22\n",
      "    - Potato | $4.69 | Protein Score: 20.35\n",
      "Meijer:\n",
      "  fruit:\n",
      "    - Nectarine | $0.99 | Protein Score: 1.66\n",
      "  protein:\n",
      "    - Chicken Breast | $10.28 | Protein Score: 35.72\n",
      "    - Pork | $4.42 | Protein Score: 22.41\n",
      "  snack:\n",
      "    - Potato Chips | $2.49 | Protein Score: 6.26\n",
      "  vegetables:\n",
      "    - Cabbage | $2.37 | Protein Score: 13.78\n",
      "    - Carrot | $0.22 | Protein Score: 2.47\n",
      "    - Potato | $3.59 | Protein Score: 13.27\n",
      "Total Expenditure: $49.66\n",
      "Total Protein Score: 206.62\n"
     ]
    }
   ],
   "source": [
    "# Output\n",
    "grouped_selection = defaultdict(lambda: defaultdict(list))\n",
    "for i in sorted(selected_indices, key=lambda i: (stores[i], categories[i], item_names[i])):\n",
    "    grouped_selection[stores[i]][categories[i]].append(i)\n",
    "\n",
    "print(\"Selected Items:\")\n",
    "total_cost = total_score = 0.0\n",
    "for store in sorted(grouped_selection):\n",
    "    print(f\"{store}:\")\n",
    "    for category in sorted(grouped_selection[store]):\n",
    "        print(f\"  {category}:\")\n",
    "        for i in grouped_selection[store][category]:\n",
    "            print(f\"    - {item_names[i]} | ${unit_prices[i]:.2f} | Protein Score: {protein_scores[i]:.2f}\")\n",
    "            total_cost += unit_prices[i]\n",
    "            total_score += protein_scores[i]\n",
    "print(f\"Total Expenditure: ${total_cost:.2f}\")\n",
    "print(f\"Total Protein Score: {total_score:.2f}\")"
   ]
  },
  {
   "cell_type": "code",
   "execution_count": null,
   "id": "b906d9c6-b082-408d-a99b-fff397b825d8",
   "metadata": {},
   "outputs": [],
   "source": []
  }
 ],
 "metadata": {
  "kernelspec": {
   "display_name": "Python 3 (ipykernel)",
   "language": "python",
   "name": "python3"
  },
  "language_info": {
   "codemirror_mode": {
    "name": "ipython",
    "version": 3
   },
   "file_extension": ".py",
   "mimetype": "text/x-python",
   "name": "python",
   "nbconvert_exporter": "python",
   "pygments_lexer": "ipython3",
   "version": "3.13.3"
  }
 },
 "nbformat": 4,
 "nbformat_minor": 5
}
